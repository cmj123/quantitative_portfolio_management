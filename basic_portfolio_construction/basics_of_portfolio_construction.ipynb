{
 "cells": [
  {
   "cell_type": "markdown",
   "metadata": {},
   "source": [
    "# Basics of Portfolio Construction"
   ]
  },
  {
   "cell_type": "markdown",
   "metadata": {},
   "source": [
    "In this notebook, you will practice the basic mathematics terms . You will learn the implementation of:\n",
    "\n",
    "1. Annualised returns of the stocks\n",
    "2. Annualised standard deviation of the stocks\n",
    "3. Portfolio returns\n",
    "4. Covariance\n",
    "5. Portfolio standard deviation"
   ]
  },
  {
   "cell_type": "markdown",
   "metadata": {},
   "source": [
    "### Import the libraries"
   ]
  },
  {
   "cell_type": "code",
   "execution_count": 4,
   "metadata": {},
   "outputs": [],
   "source": [
    "# Importing the necessary python modules required in this notebook\n",
    "import pandas as pd\n",
    "import math \n",
    "import numpy as np"
   ]
  },
  {
   "cell_type": "markdown",
   "metadata": {},
   "source": []
  },
  {
   "cell_type": "markdown",
   "metadata": {},
   "source": [
    "### Import the data"
   ]
  },
  {
   "cell_type": "code",
   "execution_count": 5,
   "metadata": {},
   "outputs": [
    {
     "data": {
      "text/html": [
       "<div>\n",
       "<style scoped>\n",
       "    .dataframe tbody tr th:only-of-type {\n",
       "        vertical-align: middle;\n",
       "    }\n",
       "\n",
       "    .dataframe tbody tr th {\n",
       "        vertical-align: top;\n",
       "    }\n",
       "\n",
       "    .dataframe thead th {\n",
       "        text-align: right;\n",
       "    }\n",
       "</style>\n",
       "<table border=\"1\" class=\"dataframe\">\n",
       "  <thead>\n",
       "    <tr style=\"text-align: right;\">\n",
       "      <th></th>\n",
       "      <th>GOOGL</th>\n",
       "      <th>MSFT</th>\n",
       "    </tr>\n",
       "    <tr>\n",
       "      <th>Date</th>\n",
       "      <th></th>\n",
       "      <th></th>\n",
       "    </tr>\n",
       "  </thead>\n",
       "  <tbody>\n",
       "    <tr>\n",
       "      <th>22-12-2017</th>\n",
       "      <td>1068.859985</td>\n",
       "      <td>85.51</td>\n",
       "    </tr>\n",
       "    <tr>\n",
       "      <th>26-12-2017</th>\n",
       "      <td>1065.849976</td>\n",
       "      <td>85.40</td>\n",
       "    </tr>\n",
       "    <tr>\n",
       "      <th>27-12-2017</th>\n",
       "      <td>1060.199951</td>\n",
       "      <td>85.71</td>\n",
       "    </tr>\n",
       "    <tr>\n",
       "      <th>28-12-2017</th>\n",
       "      <td>1055.949951</td>\n",
       "      <td>85.72</td>\n",
       "    </tr>\n",
       "    <tr>\n",
       "      <th>29-12-2017</th>\n",
       "      <td>1053.400024</td>\n",
       "      <td>85.54</td>\n",
       "    </tr>\n",
       "  </tbody>\n",
       "</table>\n",
       "</div>"
      ],
      "text/plain": [
       "                  GOOGL   MSFT\n",
       "Date                          \n",
       "22-12-2017  1068.859985  85.51\n",
       "26-12-2017  1065.849976  85.40\n",
       "27-12-2017  1060.199951  85.71\n",
       "28-12-2017  1055.949951  85.72\n",
       "29-12-2017  1053.400024  85.54"
      ]
     },
     "execution_count": 5,
     "metadata": {},
     "output_type": "execute_result"
    }
   ],
   "source": [
    "# Read CSV to get the prices\n",
    "stock_prices = pd.read_csv('data/Stock_Prices_2016_To_2017.csv', index_col=0)\n",
    "\n",
    "stock_prices.tail()"
   ]
  },
  {
   "cell_type": "markdown",
   "metadata": {},
   "source": [
    "### Annualised returns of the stocks"
   ]
  },
  {
   "cell_type": "markdown",
   "metadata": {},
   "source": [
    "First you will calculate the annalised returns of the stocks. Mathematically it can be calculated as shown below\n",
    "\n",
    "Annualised returns = (total returns + 1)**(252/ number of days) - 1\n",
    "\n",
    "In the equation,\n",
    "1. total returns are returns for the whole period and \n",
    "2. number of days represents the total trading days"
   ]
  },
  {
   "cell_type": "code",
   "execution_count": 6,
   "metadata": {},
   "outputs": [
    {
     "name": "stdout",
     "output_type": "stream",
     "text": [
      "The annualised returns of Microsoft is:  24.99%\n",
      "The annualised returns of Google is:  17.81%\n"
     ]
    }
   ],
   "source": [
    "# Calculate annualised returns\n",
    "annual_returns = ((((stock_prices.iloc[-1] - stock_prices.iloc[0]) / stock_prices.iloc[0]) + 1)**(252/len(stock_prices)) -1)\n",
    "\n",
    "# Print the annualised returns of the stocks\n",
    "print(\"The annualised returns of Microsoft is: \", \n",
    "        str(round(annual_returns['MSFT']*100,2)) + \"%\")\n",
    "\n",
    "print(\"The annualised returns of Google is: \", \n",
    "        str(round(annual_returns['GOOGL']*100,2)) + \"%\")"
   ]
  },
  {
   "cell_type": "markdown",
   "metadata": {},
   "source": []
  },
  {
   "cell_type": "markdown",
   "metadata": {},
   "source": [
    "### Annualised standard deviation of the stocks"
   ]
  },
  {
   "cell_type": "code",
   "execution_count": 7,
   "metadata": {},
   "outputs": [],
   "source": [
    "# Calculate the daily returns\n",
    "price_returns = stock_prices.pct_change()\n",
    "\n",
    "# Drop the rows with NaN values\n",
    "price_returns.dropna(inplace=True)"
   ]
  },
  {
   "cell_type": "code",
   "execution_count": 8,
   "metadata": {},
   "outputs": [
    {
     "name": "stdout",
     "output_type": "stream",
     "text": [
      "The annualised standard deviation of Microsoft is:  19.15%\n",
      "The annualised standard deviation of Google is:  17.81%\n"
     ]
    }
   ],
   "source": [
    "# Calcualte the standard deviation of the returns and to annualise it multiple by sqrt(252)\n",
    "annual_std_dev = price_returns.std()*math.sqrt(252)\n",
    "\n",
    "# Print the annualised standard deviation of the stocks\n",
    "print(\"The annualised standard deviation of Microsoft is: \", \n",
    "        str(round(annual_std_dev['MSFT']*100,2)) + \"%\")\n",
    "\n",
    "print(\"The annualised standard deviation of Google is: \", \n",
    "        str(round(annual_std_dev['GOOGL']*100,2)) + \"%\")"
   ]
  },
  {
   "cell_type": "markdown",
   "metadata": {},
   "source": [
    "### Portfolio Returns"
   ]
  },
  {
   "cell_type": "markdown",
   "metadata": {},
   "source": [
    "The portfolio equation is given as:\n",
    "\n",
    "**Portfolio = a.X + b.Y**\n",
    "\n",
    "Let's assume equal weights and the portfolio returns can be calculated by susbtituting the annualised returns for X and Y in the equation\n",
    "\n",
    "**Portfolio returns = a.X_returns + b.Y_returns**"
   ]
  },
  {
   "cell_type": "markdown",
   "metadata": {},
   "source": []
  },
  {
   "cell_type": "code",
   "execution_count": 9,
   "metadata": {},
   "outputs": [
    {
     "name": "stdout",
     "output_type": "stream",
     "text": [
      "The portfolio return is:  21.4%\n"
     ]
    }
   ],
   "source": [
    "# Assume equal weights\n",
    "a = 0.5 \n",
    "b = 0.5\n",
    "\n",
    "# Calculate portfolio returns\n",
    "portfolio_returns = a *annual_returns['MSFT'] + b * annual_returns['GOOGL']\n",
    "\n",
    "# Print the portfolio returns\n",
    "print(\"The portfolio return is: \", str(round(portfolio_returns*100,2))+\"%\")"
   ]
  },
  {
   "cell_type": "code",
   "execution_count": null,
   "metadata": {},
   "outputs": [],
   "source": []
  }
 ],
 "metadata": {
  "interpreter": {
   "hash": "e774977668b7c0ae8309835a5187aa7fbf7669e7d0bb59755bc63e573643edcd"
  },
  "kernelspec": {
   "display_name": "Python 3.7.9 64-bit",
   "language": "python",
   "name": "python3"
  },
  "language_info": {
   "codemirror_mode": {
    "name": "ipython",
    "version": 3
   },
   "file_extension": ".py",
   "mimetype": "text/x-python",
   "name": "python",
   "nbconvert_exporter": "python",
   "pygments_lexer": "ipython3",
   "version": "3.7.9"
  },
  "orig_nbformat": 4
 },
 "nbformat": 4,
 "nbformat_minor": 2
}
