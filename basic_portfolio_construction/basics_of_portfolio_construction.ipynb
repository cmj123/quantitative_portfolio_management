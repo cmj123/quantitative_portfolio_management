{
 "cells": [
  {
   "cell_type": "markdown",
   "metadata": {},
   "source": [
    "# Basics of Portfolio Construction"
   ]
  },
  {
   "cell_type": "markdown",
   "metadata": {},
   "source": [
    "In this notebook, you will practice the basic mathematics terms . You will learn the implementation of:\n",
    "\n",
    "1. Annualised returns of the stocks\n",
    "2. Annualised standard deviation of the stocks\n",
    "3. Portfolio returns\n",
    "4. Covariance\n",
    "5. Portfolio standard deviation"
   ]
  },
  {
   "cell_type": "markdown",
   "metadata": {},
   "source": [
    "### Import the libraries"
   ]
  },
  {
   "cell_type": "code",
   "execution_count": 10,
   "metadata": {},
   "outputs": [],
   "source": [
    "# Importing the necessary python modules required in this notebook\n",
    "import pandas as pd\n",
    "import math \n",
    "import numpy as np"
   ]
  },
  {
   "cell_type": "markdown",
   "metadata": {},
   "source": []
  },
  {
   "cell_type": "markdown",
   "metadata": {},
   "source": [
    "### Import the data"
   ]
  },
  {
   "cell_type": "code",
   "execution_count": 11,
   "metadata": {},
   "outputs": [
    {
     "data": {
      "text/html": [
       "<div>\n",
       "<style scoped>\n",
       "    .dataframe tbody tr th:only-of-type {\n",
       "        vertical-align: middle;\n",
       "    }\n",
       "\n",
       "    .dataframe tbody tr th {\n",
       "        vertical-align: top;\n",
       "    }\n",
       "\n",
       "    .dataframe thead th {\n",
       "        text-align: right;\n",
       "    }\n",
       "</style>\n",
       "<table border=\"1\" class=\"dataframe\">\n",
       "  <thead>\n",
       "    <tr style=\"text-align: right;\">\n",
       "      <th></th>\n",
       "      <th>GOOGL</th>\n",
       "      <th>MSFT</th>\n",
       "    </tr>\n",
       "    <tr>\n",
       "      <th>Date</th>\n",
       "      <th></th>\n",
       "      <th></th>\n",
       "    </tr>\n",
       "  </thead>\n",
       "  <tbody>\n",
       "    <tr>\n",
       "      <th>22-12-2017</th>\n",
       "      <td>1068.859985</td>\n",
       "      <td>85.51</td>\n",
       "    </tr>\n",
       "    <tr>\n",
       "      <th>26-12-2017</th>\n",
       "      <td>1065.849976</td>\n",
       "      <td>85.40</td>\n",
       "    </tr>\n",
       "    <tr>\n",
       "      <th>27-12-2017</th>\n",
       "      <td>1060.199951</td>\n",
       "      <td>85.71</td>\n",
       "    </tr>\n",
       "    <tr>\n",
       "      <th>28-12-2017</th>\n",
       "      <td>1055.949951</td>\n",
       "      <td>85.72</td>\n",
       "    </tr>\n",
       "    <tr>\n",
       "      <th>29-12-2017</th>\n",
       "      <td>1053.400024</td>\n",
       "      <td>85.54</td>\n",
       "    </tr>\n",
       "  </tbody>\n",
       "</table>\n",
       "</div>"
      ],
      "text/plain": [
       "                  GOOGL   MSFT\n",
       "Date                          \n",
       "22-12-2017  1068.859985  85.51\n",
       "26-12-2017  1065.849976  85.40\n",
       "27-12-2017  1060.199951  85.71\n",
       "28-12-2017  1055.949951  85.72\n",
       "29-12-2017  1053.400024  85.54"
      ]
     },
     "execution_count": 11,
     "metadata": {},
     "output_type": "execute_result"
    }
   ],
   "source": [
    "# Read CSV to get the prices\n",
    "stock_prices = pd.read_csv('data/Stock_Prices_2016_To_2017.csv', index_col=0)\n",
    "\n",
    "stock_prices.tail()"
   ]
  },
  {
   "cell_type": "markdown",
   "metadata": {},
   "source": [
    "### Annualised returns of the stocks"
   ]
  },
  {
   "cell_type": "markdown",
   "metadata": {},
   "source": [
    "First you will calculate the annalised returns of the stocks. Mathematically it can be calculated as shown below\n",
    "\n",
    "Annualised returns = (total returns + 1)**(252/ number of days) - 1\n",
    "\n",
    "In the equation,\n",
    "1. total returns are returns for the whole period and \n",
    "2. number of days represents the total trading days"
   ]
  },
  {
   "cell_type": "code",
   "execution_count": 12,
   "metadata": {},
   "outputs": [
    {
     "name": "stdout",
     "output_type": "stream",
     "text": [
      "The annualised returns of Microsoft is:  24.99%\n",
      "The annualised returns of Google is:  17.81%\n"
     ]
    }
   ],
   "source": [
    "# Calculate annualised returns\n",
    "annual_returns = ((((stock_prices.iloc[-1] - stock_prices.iloc[0]) / stock_prices.iloc[0]) + 1)**(252/len(stock_prices)) -1)\n",
    "\n",
    "# Print the annualised returns of the stocks\n",
    "print(\"The annualised returns of Microsoft is: \", \n",
    "        str(round(annual_returns['MSFT']*100,2)) + \"%\")\n",
    "\n",
    "print(\"The annualised returns of Google is: \", \n",
    "        str(round(annual_returns['GOOGL']*100,2)) + \"%\")"
   ]
  },
  {
   "cell_type": "markdown",
   "metadata": {},
   "source": []
  },
  {
   "cell_type": "markdown",
   "metadata": {},
   "source": [
    "### Annualised standard deviation of the stocks"
   ]
  },
  {
   "cell_type": "code",
   "execution_count": 13,
   "metadata": {},
   "outputs": [],
   "source": [
    "# Calculate the daily returns\n",
    "price_returns = stock_prices.pct_change()\n",
    "\n",
    "# Drop the rows with NaN values\n",
    "price_returns.dropna(inplace=True)"
   ]
  },
  {
   "cell_type": "code",
   "execution_count": 14,
   "metadata": {},
   "outputs": [
    {
     "name": "stdout",
     "output_type": "stream",
     "text": [
      "The annualised standard deviation of Microsoft is:  19.15%\n",
      "The annualised standard deviation of Google is:  17.81%\n"
     ]
    }
   ],
   "source": [
    "# Calcualte the standard deviation of the returns and to annualise it multiple by sqrt(252)\n",
    "annual_std_dev = price_returns.std()*math.sqrt(252)\n",
    "\n",
    "# Print the annualised standard deviation of the stocks\n",
    "print(\"The annualised standard deviation of Microsoft is: \", \n",
    "        str(round(annual_std_dev['MSFT']*100,2)) + \"%\")\n",
    "\n",
    "print(\"The annualised standard deviation of Google is: \", \n",
    "        str(round(annual_std_dev['GOOGL']*100,2)) + \"%\")"
   ]
  },
  {
   "cell_type": "markdown",
   "metadata": {},
   "source": [
    "### Portfolio Returns"
   ]
  },
  {
   "cell_type": "markdown",
   "metadata": {},
   "source": []
  },
  {
   "cell_type": "code",
   "execution_count": 15,
   "metadata": {},
   "outputs": [
    {
     "name": "stdout",
     "output_type": "stream",
     "text": [
      "The portfolio return is:  21.4%\n"
     ]
    }
   ],
   "source": [
    "# Assume equal weights\n",
    "a = 0.5 \n",
    "b = 0.5\n",
    "\n",
    "# Calculate portfolio returns\n",
    "portfolio_returns = a *annual_returns['MSFT'] + b * annual_returns['GOOGL']\n",
    "\n",
    "# Print the portfolio returns\n",
    "print(\"The portfolio return is: \", str(round(portfolio_returns*100,2))+\"%\")"
   ]
  },
  {
   "cell_type": "markdown",
   "metadata": {},
   "source": [
    "### Covariance"
   ]
  },
  {
   "cell_type": "markdown",
   "metadata": {},
   "source": [
    "The mathematical equation for covariance is:\n",
    "\n",
    "`Covariance = sum (((x-x_bar)*(y - y_bar))/n)`\n",
    "\n",
    "Here,\n",
    "1. X and Y are the series of data for which you want to calculate the covariance value\n",
    "2. x_bar and y_bar are the mean values of the respective series\n",
    "3. n is the number of values in either of the series\n",
    "\n",
    "This method calculates covariance assuming the data is a sample by default. For a sample data the denominator is taken as n-1 in the covariance formula instead of n. This is to correct the bias in case of sample data\n",
    "\n",
    "To specify that we are the population data and take the denominator as 'n', we need to pass one more parameter `bias=True` to the `cov()` method"
   ]
  },
  {
   "cell_type": "code",
   "execution_count": 24,
   "metadata": {},
   "outputs": [
    {
     "data": {
      "text/plain": [
       "array([[ 2.        ,  3.66666667],\n",
       "       [ 3.66666667, 10.        ]])"
      ]
     },
     "execution_count": 24,
     "metadata": {},
     "output_type": "execute_result"
    }
   ],
   "source": [
    "# Example data series X and Y\n",
    "X = [5, 2, 4, 5]\n",
    "Y = [4, 0, 1, 7]\n",
    "\n",
    "# Calculate the covariance of X and Y\n",
    "cov_X_Y = np.cov(X, Y, bias=False)\n",
    "cov_X_Y"
   ]
  },
  {
   "cell_type": "code",
   "execution_count": 25,
   "metadata": {},
   "outputs": [
    {
     "name": "stdout",
     "output_type": "stream",
     "text": [
      "The covariance of X and Y is :  3.67\n"
     ]
    }
   ],
   "source": [
    "# Print the covariance value of X and Y \n",
    "print(\"The covariance of X and Y is : \", round(cov_X_Y[0,1], 2))"
   ]
  },
  {
   "cell_type": "markdown",
   "metadata": {},
   "source": [
    "### Covariance of the stocks\n",
    "\n",
    "You will calculate the covariance for stocks. This is used in the portfolio standard deviation calculation"
   ]
  },
  {
   "cell_type": "code",
   "execution_count": 27,
   "metadata": {},
   "outputs": [
    {
     "name": "stdout",
     "output_type": "stream",
     "text": [
      "The covariance of MSFT and GOOGL is 0.0228 \n"
     ]
    }
   ],
   "source": [
    "# Calculate the covariance of the stocks and multiplt it by 252 to get annualised covariance\n",
    "cov_msft_googl = np.cov(\n",
    "    price_returns['MSFT'], price_returns['GOOGL'], bias=True)*252\n",
    "\n",
    "# Print the covariance value of MSFT and GOOGLE\n",
    "print(\"The covariance of MSFT and GOOGL is {:.4f} \".format(cov_msft_googl[0,1]))"
   ]
  },
  {
   "cell_type": "markdown",
   "metadata": {},
   "source": [
    "### Portfolio standard deviation"
   ]
  },
  {
   "cell_type": "markdown",
   "metadata": {},
   "source": [
    "`Portfolio standard deviation = sqrt(a^2 * var_x^2 + b^2 * var_y^2 + 2 * a * b * Cov(X,Y))`\n",
    "\n",
    "Let's calculate the standard deviation of the portfolio"
   ]
  },
  {
   "cell_type": "code",
   "execution_count": 31,
   "metadata": {},
   "outputs": [
    {
     "name": "stdout",
     "output_type": "stream",
     "text": [
      "The portfolio standard deviation is: 16.88 %\n"
     ]
    }
   ],
   "source": [
    "# Calculate portfolio standard deviation\n",
    "portfolio_std_dev = math.sqrt((a**2)*(annual_std_dev['MSFT']**2) + (b**2)*(annual_std_dev['GOOGL']**2)\n",
    "                                +2*a*b*cov_msft_googl[0,1])\n",
    "\n",
    "# Pri(\"\"nt the portfolio standard deviation\n",
    "print(\"The portfolio standard deviation is: {:.2f} %\".format(portfolio_std_dev*100))"
   ]
  },
  {
   "cell_type": "code",
   "execution_count": null,
   "metadata": {},
   "outputs": [],
   "source": []
  }
 ],
 "metadata": {
  "interpreter": {
   "hash": "e774977668b7c0ae8309835a5187aa7fbf7669e7d0bb59755bc63e573643edcd"
  },
  "kernelspec": {
   "display_name": "Python 3.7.9 64-bit",
   "language": "python",
   "name": "python3"
  },
  "language_info": {
   "codemirror_mode": {
    "name": "ipython",
    "version": 3
   },
   "file_extension": ".py",
   "mimetype": "text/x-python",
   "name": "python",
   "nbconvert_exporter": "python",
   "pygments_lexer": "ipython3",
   "version": "3.7.9"
  },
  "orig_nbformat": 4
 },
 "nbformat": 4,
 "nbformat_minor": 2
}
