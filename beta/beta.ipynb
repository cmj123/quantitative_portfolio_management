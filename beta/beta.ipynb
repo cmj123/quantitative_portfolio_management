{
 "cells": [
  {
   "cell_type": "markdown",
   "metadata": {},
   "source": [
    "# Calculation of Beta\n",
    "In this notebook, you will learn about the calculation of beta using regression analysis and variance-covariance method.\n",
    "\n",
    "The steps fora are:\n",
    "1. Read the data from CSV\n",
    "2. Calculate the daily returns\n",
    "3. Calculate the beta using regression method\n",
    "4. Calculate the beta using variance-covariance method"
   ]
  },
  {
   "cell_type": "markdown",
   "metadata": {},
   "source": [
    "### Read the data from CSV"
   ]
  },
  {
   "cell_type": "code",
   "execution_count": 1,
   "metadata": {},
   "outputs": [
    {
     "data": {
      "text/html": [
       "<div>\n",
       "<style scoped>\n",
       "    .dataframe tbody tr th:only-of-type {\n",
       "        vertical-align: middle;\n",
       "    }\n",
       "\n",
       "    .dataframe tbody tr th {\n",
       "        vertical-align: top;\n",
       "    }\n",
       "\n",
       "    .dataframe thead th {\n",
       "        text-align: right;\n",
       "    }\n",
       "</style>\n",
       "<table border=\"1\" class=\"dataframe\">\n",
       "  <thead>\n",
       "    <tr style=\"text-align: right;\">\n",
       "      <th></th>\n",
       "      <th>amazon_price</th>\n",
       "      <th>spy_price</th>\n",
       "    </tr>\n",
       "    <tr>\n",
       "      <th>date</th>\n",
       "      <th></th>\n",
       "      <th></th>\n",
       "    </tr>\n",
       "  </thead>\n",
       "  <tbody>\n",
       "    <tr>\n",
       "      <th>14-06-2018</th>\n",
       "      <td>1723.86</td>\n",
       "      <td>278.73</td>\n",
       "    </tr>\n",
       "    <tr>\n",
       "      <th>15-06-2018</th>\n",
       "      <td>1715.97</td>\n",
       "      <td>277.13</td>\n",
       "    </tr>\n",
       "    <tr>\n",
       "      <th>18-06-2018</th>\n",
       "      <td>1723.79</td>\n",
       "      <td>276.56</td>\n",
       "    </tr>\n",
       "    <tr>\n",
       "      <th>19-06-2018</th>\n",
       "      <td>1734.78</td>\n",
       "      <td>275.50</td>\n",
       "    </tr>\n",
       "    <tr>\n",
       "      <th>20-06-2018</th>\n",
       "      <td>1750.08</td>\n",
       "      <td>275.97</td>\n",
       "    </tr>\n",
       "  </tbody>\n",
       "</table>\n",
       "</div>"
      ],
      "text/plain": [
       "            amazon_price  spy_price\n",
       "date                               \n",
       "14-06-2018       1723.86     278.73\n",
       "15-06-2018       1715.97     277.13\n",
       "18-06-2018       1723.79     276.56\n",
       "19-06-2018       1734.78     275.50\n",
       "20-06-2018       1750.08     275.97"
      ]
     },
     "execution_count": 1,
     "metadata": {},
     "output_type": "execute_result"
    }
   ],
   "source": [
    "# Import the pandas library\n",
    "import pandas as pd\n",
    "\n",
    "# Read the data\n",
    "data = pd.read_csv('data/AMZN_SPY_Prices_2018_to_2019_Beta.csv', index_col=0)\n",
    "\n",
    "data.head()"
   ]
  },
  {
   "cell_type": "markdown",
   "metadata": {},
   "source": [
    "### Calculate the daily returns"
   ]
  },
  {
   "cell_type": "code",
   "execution_count": 2,
   "metadata": {},
   "outputs": [
    {
     "data": {
      "text/html": [
       "<div>\n",
       "<style scoped>\n",
       "    .dataframe tbody tr th:only-of-type {\n",
       "        vertical-align: middle;\n",
       "    }\n",
       "\n",
       "    .dataframe tbody tr th {\n",
       "        vertical-align: top;\n",
       "    }\n",
       "\n",
       "    .dataframe thead th {\n",
       "        text-align: right;\n",
       "    }\n",
       "</style>\n",
       "<table border=\"1\" class=\"dataframe\">\n",
       "  <thead>\n",
       "    <tr style=\"text-align: right;\">\n",
       "      <th></th>\n",
       "      <th>amazon_price</th>\n",
       "      <th>spy_price</th>\n",
       "      <th>daily_amazon_returns</th>\n",
       "      <th>daily_spy_returns</th>\n",
       "    </tr>\n",
       "    <tr>\n",
       "      <th>date</th>\n",
       "      <th></th>\n",
       "      <th></th>\n",
       "      <th></th>\n",
       "      <th></th>\n",
       "    </tr>\n",
       "  </thead>\n",
       "  <tbody>\n",
       "    <tr>\n",
       "      <th>15-06-2018</th>\n",
       "      <td>1715.97</td>\n",
       "      <td>277.13</td>\n",
       "      <td>-0.004577</td>\n",
       "      <td>-0.005740</td>\n",
       "    </tr>\n",
       "    <tr>\n",
       "      <th>18-06-2018</th>\n",
       "      <td>1723.79</td>\n",
       "      <td>276.56</td>\n",
       "      <td>0.004557</td>\n",
       "      <td>-0.002057</td>\n",
       "    </tr>\n",
       "    <tr>\n",
       "      <th>19-06-2018</th>\n",
       "      <td>1734.78</td>\n",
       "      <td>275.50</td>\n",
       "      <td>0.006375</td>\n",
       "      <td>-0.003833</td>\n",
       "    </tr>\n",
       "    <tr>\n",
       "      <th>20-06-2018</th>\n",
       "      <td>1750.08</td>\n",
       "      <td>275.97</td>\n",
       "      <td>0.008820</td>\n",
       "      <td>0.001706</td>\n",
       "    </tr>\n",
       "    <tr>\n",
       "      <th>21-06-2018</th>\n",
       "      <td>1730.22</td>\n",
       "      <td>274.24</td>\n",
       "      <td>-0.011348</td>\n",
       "      <td>-0.006269</td>\n",
       "    </tr>\n",
       "  </tbody>\n",
       "</table>\n",
       "</div>"
      ],
      "text/plain": [
       "            amazon_price  spy_price  daily_amazon_returns  daily_spy_returns\n",
       "date                                                                        \n",
       "15-06-2018       1715.97     277.13             -0.004577          -0.005740\n",
       "18-06-2018       1723.79     276.56              0.004557          -0.002057\n",
       "19-06-2018       1734.78     275.50              0.006375          -0.003833\n",
       "20-06-2018       1750.08     275.97              0.008820           0.001706\n",
       "21-06-2018       1730.22     274.24             -0.011348          -0.006269"
      ]
     },
     "execution_count": 2,
     "metadata": {},
     "output_type": "execute_result"
    }
   ],
   "source": [
    "# Calculate the daily returns of Amazon\n",
    "data['daily_amazon_returns'] = data.amazon_price.pct_change()\n",
    "\n",
    "# Calculate the daily returns of S&P500\n",
    "data[\"daily_spy_returns\"] = data.spy_price.pct_change()\n",
    "\n",
    "# Drop NaN values\n",
    "data = data.dropna()\n",
    "\n",
    "# Print the first five rows of data dataframe\n",
    "data.head()"
   ]
  },
  {
   "cell_type": "markdown",
   "metadata": {},
   "source": [
    "### Calculate the beta using regression method\n",
    "We have daily returns of Amazon and S&P500. We will use the ordinary least square (OLS) regression to calculate the Beta of the Amazon.\n",
    "\n",
    "For that, we will use the OLS function from statsmodel library.\n",
    "\n",
    "Syntax:\n",
    "\n",
    "`OLS(y, X)`\n",
    "\n",
    "In our case, `y` and `X` = daily_spy_returns"
   ]
  },
  {
   "cell_type": "code",
   "execution_count": 4,
   "metadata": {},
   "outputs": [
    {
     "name": "stdout",
     "output_type": "stream",
     "text": [
      "Beta of Amazon: 1.87\n"
     ]
    }
   ],
   "source": [
    "# Import statsmodels library\n",
    "import statsmodels.api as sm\n",
    "\n",
    "# create a regression model\n",
    "reg = sm.OLS(data.daily_amazon_returns, data.daily_spy_returns)\n",
    "\n",
    "# Fit the model\n",
    "results = reg.fit()\n",
    "\n",
    "# Print the beta of Amazon\n",
    "print('Beta of Amazon: %.2f' % results.params[0])\n"
   ]
  },
  {
   "cell_type": "code",
   "execution_count": null,
   "metadata": {},
   "outputs": [],
   "source": []
  }
 ],
 "metadata": {
  "interpreter": {
   "hash": "767d51c1340bd893661ea55ea3124f6de3c7a262a8b4abca0554b478b1e2ff90"
  },
  "kernelspec": {
   "display_name": "Python 2.7.16 64-bit",
   "language": "python",
   "name": "python3"
  },
  "language_info": {
   "codemirror_mode": {
    "name": "ipython",
    "version": 3
   },
   "file_extension": ".py",
   "mimetype": "text/x-python",
   "name": "python",
   "nbconvert_exporter": "python",
   "pygments_lexer": "ipython3",
   "version": "3.7.9"
  },
  "orig_nbformat": 4
 },
 "nbformat": 4,
 "nbformat_minor": 2
}
