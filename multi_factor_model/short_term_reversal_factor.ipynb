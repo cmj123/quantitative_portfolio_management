{
 "cells": [
  {
   "cell_type": "markdown",
   "metadata": {},
   "source": [
    "# Multi-Factor Model: Short-Term Reversal\n",
    "\n",
    "In this notebook, you will create a short-term reversal factor. And then combine it with the momentum factor to generate a multi-factor model\n",
    "\n",
    "The following steps are performed while creating the multi-factor model.\n",
    "1. Import the libraries and data\n",
    "2. Calculate the daily percentage change\n",
    "3. Create a short-term reversal based factor\n",
    "4. Create a multi factor portfolio"
   ]
  },
  {
   "cell_type": "markdown",
   "metadata": {},
   "source": [
    "### Import the libraries and data\n",
    "\n",
    "#### Import the libraries\n",
    "You can first start by importing the libraries necessary which will be used later to get the data, store it, and create the factor based portfolio"
   ]
  },
  {
   "cell_type": "code",
   "execution_count": 1,
   "metadata": {},
   "outputs": [],
   "source": [
    "# Importing modules\n",
    "import numpy as np \n",
    "import pandas as pd\n",
    "import matplotlib.pyplot as plt \n",
    "import datetime as dt \n",
    "\n",
    "# Need to import the matplot_converters from pandas\n",
    "# whenever you try to plot the columns of a dataframe using a for loop\n",
    "from pandas.plotting import register_matplotlib_converters\n",
    "register_matplotlib_converters()"
   ]
  },
  {
   "cell_type": "markdown",
   "metadata": {},
   "source": [
    "#### Download the data"
   ]
  },
  {
   "cell_type": "code",
   "execution_count": 2,
   "metadata": {},
   "outputs": [],
   "source": [
    "df = pd.read_csv('data/Stock_Prices_2012_To_2017_Factor.csv', index_col=[0])\n",
    "\n",
    "# Convert the index to datetime format\n",
    "df.index = pd.to_datetime(df.index, format=\"%Y-%m-%d\")#.date\n",
    "\n",
    "# Load the momentum factor created in the previous notebook\n",
    "momentum_performance = pd.read_csv('data/Momentum_Performance_2012_To_2017.csv', index_col=[0])\n",
    "\n",
    "# Convert the index to datatime format\n",
    "momentum_performance.index = pd.to_datetime(momentum_performance.index, format='%d-%m-%Y')"
   ]
  },
  {
   "cell_type": "code",
   "execution_count": null,
   "metadata": {},
   "outputs": [],
   "source": []
  },
  {
   "cell_type": "code",
   "execution_count": null,
   "metadata": {},
   "outputs": [],
   "source": []
  }
 ],
 "metadata": {
  "interpreter": {
   "hash": "e774977668b7c0ae8309835a5187aa7fbf7669e7d0bb59755bc63e573643edcd"
  },
  "kernelspec": {
   "display_name": "Python 3.7.9 64-bit",
   "language": "python",
   "name": "python3"
  },
  "language_info": {
   "codemirror_mode": {
    "name": "ipython",
    "version": 3
   },
   "file_extension": ".py",
   "mimetype": "text/x-python",
   "name": "python",
   "nbconvert_exporter": "python",
   "pygments_lexer": "ipython3",
   "version": "3.7.9"
  },
  "orig_nbformat": 4
 },
 "nbformat": 4,
 "nbformat_minor": 2
}
