{
 "cells": [
  {
   "cell_type": "markdown",
   "metadata": {},
   "source": [
    "# Multi-Factor Model: Momentum"
   ]
  },
  {
   "cell_type": "markdown",
   "metadata": {},
   "source": [
    "In this notebook, you will create the momentum factor which will be used in a multi-factor model later. The following steps are \n",
    "performed while creating the factor:\n",
    "1. Import the libraries and data\n",
    "2. Calculate the daily percentage change\n",
    "3. Create a Momentum based factor"
   ]
  },
  {
   "cell_type": "markdown",
   "metadata": {},
   "source": [
    "### Import the libraries and data\n",
    "\n",
    "#### Import the libraries\n",
    "You can first start by importing the libraries necessary which will be used later to get the data, store it, and create the factor based portfolio"
   ]
  },
  {
   "cell_type": "code",
   "execution_count": 1,
   "metadata": {},
   "outputs": [],
   "source": [
    "# Importing modules\n",
    "import numpy as np \n",
    "import pandas as pd\n",
    "import matplotlib.pyplot as plt \n",
    "import datetime as dt \n",
    "\n",
    "# Need to import the matplot_converters from pandas\n",
    "# whenever you try to plot the columns of a dataframe using a for loop\n",
    "from pandas.plotting import register_matplotlib_converters\n",
    "register_matplotlib_converters()"
   ]
  },
  {
   "cell_type": "markdown",
   "metadata": {},
   "source": [
    "### Download the data\n",
    "\n",
    "The stock data needed for creating the portfolio is downloaded from the stock_prices_2012_to_2017_Factor.csv file. You can find this file in the last unit of this course, containing all the downloadables\n",
    "\n",
    "You will be using the following stocks to create the factors: Amazon, Boeing, Bank of America, Hewlett-Packard, Microsoft, Procter & Gamble, and Verizon\n",
    "\n",
    "These stocks were chosen to represent the different sectors of the American economy. This is done to diversify the portfolio"
   ]
  },
  {
   "cell_type": "code",
   "execution_count": 14,
   "metadata": {},
   "outputs": [],
   "source": [
    "df = pd.read_csv('data/Stock_Prices_2012_To_2017_Factor.csv', index_col=[0])\n",
    "\n",
    "# Convert the index to datetime format\n",
    "df.index = pd.to_datetime(df.index, format=\"%Y-%m-%d\")#.date"
   ]
  },
  {
   "cell_type": "code",
   "execution_count": 13,
   "metadata": {},
   "outputs": [
    {
     "data": {
      "text/plain": [
       "Index([2012-01-03, 2012-01-04, 2012-01-05, 2012-01-06, 2012-01-09, 2012-01-10,\n",
       "       2012-01-11, 2012-01-12, 2012-01-13, 2012-01-17,\n",
       "       ...\n",
       "       2017-12-15, 2017-12-18, 2017-12-19, 2017-12-20, 2017-12-21, 2017-12-22,\n",
       "       2017-12-26, 2017-12-27, 2017-12-28, 2017-12-29],\n",
       "      dtype='object', length=1509)"
      ]
     },
     "execution_count": 13,
     "metadata": {},
     "output_type": "execute_result"
    }
   ],
   "source": [
    "df.index"
   ]
  },
  {
   "cell_type": "code",
   "execution_count": null,
   "metadata": {},
   "outputs": [],
   "source": []
  }
 ],
 "metadata": {
  "interpreter": {
   "hash": "e774977668b7c0ae8309835a5187aa7fbf7669e7d0bb59755bc63e573643edcd"
  },
  "kernelspec": {
   "display_name": "Python 3.7.9 64-bit",
   "language": "python",
   "name": "python3"
  },
  "language_info": {
   "codemirror_mode": {
    "name": "ipython",
    "version": 3
   },
   "file_extension": ".py",
   "mimetype": "text/x-python",
   "name": "python",
   "nbconvert_exporter": "python",
   "pygments_lexer": "ipython3",
   "version": "3.7.9"
  },
  "orig_nbformat": 4
 },
 "nbformat": 4,
 "nbformat_minor": 2
}
