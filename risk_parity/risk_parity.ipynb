{
 "cells": [
  {
   "cell_type": "markdown",
   "metadata": {},
   "source": [
    "# Risk Parity"
   ]
  },
  {
   "cell_type": "markdown",
   "metadata": {},
   "source": [
    "In this notebook, you will practice the concepts of Risk Parity. The steps involved are:\n",
    "1. Import the data\n",
    "2. Annualised returns and annualised standard deviation\n",
    "3. Calculate weights using risk parity"
   ]
  },
  {
   "cell_type": "markdown",
   "metadata": {},
   "source": [
    "### Import the libraries"
   ]
  },
  {
   "cell_type": "code",
   "execution_count": 3,
   "metadata": {},
   "outputs": [],
   "source": [
    "# Importing the necessary Python modules required in this notebook\n",
    "import pandas as pd \n",
    "import math \n",
    "import numpy as np \n",
    "from tabulate import tabulate"
   ]
  },
  {
   "cell_type": "markdown",
   "metadata": {},
   "source": [
    "### Calculate annualised returns and standard deviation"
   ]
  },
  {
   "cell_type": "code",
   "execution_count": 4,
   "metadata": {},
   "outputs": [
    {
     "data": {
      "text/html": [
       "<div>\n",
       "<style scoped>\n",
       "    .dataframe tbody tr th:only-of-type {\n",
       "        vertical-align: middle;\n",
       "    }\n",
       "\n",
       "    .dataframe tbody tr th {\n",
       "        vertical-align: top;\n",
       "    }\n",
       "\n",
       "    .dataframe thead th {\n",
       "        text-align: right;\n",
       "    }\n",
       "</style>\n",
       "<table border=\"1\" class=\"dataframe\">\n",
       "  <thead>\n",
       "    <tr style=\"text-align: right;\">\n",
       "      <th></th>\n",
       "      <th>CVX</th>\n",
       "      <th>IBM</th>\n",
       "    </tr>\n",
       "    <tr>\n",
       "      <th>Date</th>\n",
       "      <th></th>\n",
       "      <th></th>\n",
       "    </tr>\n",
       "  </thead>\n",
       "  <tbody>\n",
       "    <tr>\n",
       "      <th>22-12-2017</th>\n",
       "      <td>124.98</td>\n",
       "      <td>152.50</td>\n",
       "    </tr>\n",
       "    <tr>\n",
       "      <th>26-12-2017</th>\n",
       "      <td>125.98</td>\n",
       "      <td>152.83</td>\n",
       "    </tr>\n",
       "    <tr>\n",
       "      <th>27-12-2017</th>\n",
       "      <td>125.55</td>\n",
       "      <td>153.13</td>\n",
       "    </tr>\n",
       "    <tr>\n",
       "      <th>28-12-2017</th>\n",
       "      <td>125.58</td>\n",
       "      <td>154.04</td>\n",
       "    </tr>\n",
       "    <tr>\n",
       "      <th>29-12-2017</th>\n",
       "      <td>125.19</td>\n",
       "      <td>153.42</td>\n",
       "    </tr>\n",
       "  </tbody>\n",
       "</table>\n",
       "</div>"
      ],
      "text/plain": [
       "               CVX     IBM\n",
       "Date                      \n",
       "22-12-2017  124.98  152.50\n",
       "26-12-2017  125.98  152.83\n",
       "27-12-2017  125.55  153.13\n",
       "28-12-2017  125.58  154.04\n",
       "29-12-2017  125.19  153.42"
      ]
     },
     "execution_count": 4,
     "metadata": {},
     "output_type": "execute_result"
    }
   ],
   "source": [
    "# Read CSV to get stock prices\n",
    "stock_prices = pd.read_csv('data/Stock_Prices_2016_To_2017_RP.csv', index_col='Date')\n",
    "stock_prices.tail()"
   ]
  },
  {
   "cell_type": "markdown",
   "metadata": {},
   "source": [
    "First calculate the annualised returns and annualised standard deviation of the stocks. You learned the calculation in the previous sections"
   ]
  },
  {
   "cell_type": "code",
   "execution_count": 5,
   "metadata": {},
   "outputs": [],
   "source": [
    "# Calculate annualized returns \n",
    "annual_returns = ((((stock_prices.iloc[-1] - stock_prices.iloc[0])/stock_prices.iloc[0]) + 1)**(252/len(stock_prices)))-1\n",
    "\n",
    "# Calculate the daily returns\n",
    "price_returns = stock_prices.pct_change().dropna()\n",
    "\n",
    "# Calculate the standard deviation of the returns\n",
    "annual_std_dev = price_returns.std()*np.sqrt(252)"
   ]
  },
  {
   "cell_type": "markdown",
   "metadata": {},
   "source": [
    "### Calculate weights using risk parity"
   ]
  },
  {
   "cell_type": "markdown",
   "metadata": {},
   "source": [
    "According to Risk Parity method the percentage capital allocation is inversely proportional to the risk of the securities. Based on this assumption the weights of a two stock portfolio can be calculated using the following formulas\n",
    "\n",
    "Portfolio = a.X + b.Y\n",
    "\n",
    "a = 1/std(X) / (1/std(X) + 1/std(Y))\n",
    "\n",
    "You have already calculated the annualised standard deviations of the stocks above. Now let's calculate the weights"
   ]
  },
  {
   "cell_type": "code",
   "execution_count": 10,
   "metadata": {},
   "outputs": [
    {
     "name": "stdout",
     "output_type": "stream",
     "text": [
      "Stocks      Standard deviation    Capital allocation\n",
      "--------  --------------------  --------------------\n",
      "CVX                   0.19589               0.477718\n",
      "IBM                   0.179176              0.522282\n"
     ]
    }
   ],
   "source": [
    "# Calcualte 'a' which is percentage capital allocation of CVX stock\n",
    "a = (1/annual_std_dev['CVX']) / ((1/annual_std_dev['CVX'])+(1/annual_std_dev['IBM']))\n",
    "\n",
    "# Calculate 'b' which is percentage capital allocation of IBM stock \n",
    "b = (1/annual_std_dev['IBM']) / ((1/annual_std_dev['CVX'])+(1/annual_std_dev['IBM']))\n",
    "\n",
    "# Print the standard deviation and weights of CVX and IBM\n",
    "print(tabulate([['CVX', annual_std_dev['CVX'], a], ['IBM', annual_std_dev['IBM'], b]], \n",
    "headers=['Stocks', 'Standard deviation', 'Capital allocation']))"
   ]
  },
  {
   "cell_type": "code",
   "execution_count": 7,
   "metadata": {},
   "outputs": [
    {
     "data": {
      "text/plain": [
       "0.4777179253652445"
      ]
     },
     "execution_count": 7,
     "metadata": {},
     "output_type": "execute_result"
    }
   ],
   "source": [
    "a"
   ]
  },
  {
   "cell_type": "code",
   "execution_count": null,
   "metadata": {},
   "outputs": [],
   "source": []
  }
 ],
 "metadata": {
  "interpreter": {
   "hash": "e774977668b7c0ae8309835a5187aa7fbf7669e7d0bb59755bc63e573643edcd"
  },
  "kernelspec": {
   "display_name": "Python 3.7.9 64-bit",
   "language": "python",
   "name": "python3"
  },
  "language_info": {
   "codemirror_mode": {
    "name": "ipython",
    "version": 3
   },
   "file_extension": ".py",
   "mimetype": "text/x-python",
   "name": "python",
   "nbconvert_exporter": "python",
   "pygments_lexer": "ipython3",
   "version": "3.7.9"
  },
  "orig_nbformat": 4
 },
 "nbformat": 4,
 "nbformat_minor": 2
}
